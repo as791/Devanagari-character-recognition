{
  "nbformat": 4,
  "nbformat_minor": 0,
  "metadata": {
    "colab": {
      "name": "Devanagri-recognation.ipynb",
      "version": "0.3.2",
      "provenance": [],
      "collapsed_sections": [],
      "include_colab_link": true
    },
    "kernelspec": {
      "name": "python3",
      "display_name": "Python 3"
    },
    "accelerator": "GPU"
  },
  "cells": [
    {
      "cell_type": "markdown",
      "metadata": {
        "id": "view-in-github",
        "colab_type": "text"
      },
      "source": [
        "<a href=\"https://colab.research.google.com/github/as791/Devanagri-character-recognation/blob/master/Devanagri_recognation.ipynb\" target=\"_parent\"><img src=\"https://colab.research.google.com/assets/colab-badge.svg\" alt=\"Open In Colab\"/></a>"
      ]
    },
    {
      "metadata": {
        "id": "CdgKfD1g6gTX",
        "colab_type": "code",
        "outputId": "045e7c37-57e7-4d99-e666-112f6d10d9a4",
        "colab": {
          "base_uri": "https://localhost:8080/",
          "height": 34
        }
      },
      "cell_type": "code",
      "source": [
        "import pandas as pd\n",
        "import numpy as np\n",
        "import os \n",
        "from google.colab import drive\n",
        "drive.mount('/content/drive',force_remount=True)\n",
        "os.chdir('/content/drive/My Drive/devanagari-character-dataset')"
      ],
      "execution_count": 2,
      "outputs": [
        {
          "output_type": "stream",
          "text": [
            "Mounted at /content/drive\n"
          ],
          "name": "stdout"
        }
      ]
    },
    {
      "metadata": {
        "id": "gOtbvJEk6gUE",
        "colab_type": "code",
        "colab": {}
      },
      "cell_type": "code",
      "source": [
        "label=pd.read_csv('./labels.csv')"
      ],
      "execution_count": 0,
      "outputs": []
    },
    {
      "metadata": {
        "id": "Gsug8OAa6gUI",
        "colab_type": "code",
        "colab": {}
      },
      "cell_type": "code",
      "source": [
        "import matplotlib.pyplot as plt\n",
        "consonants=[]\n",
        "for con in sorted(list(map(int,os.listdir('./consonants')))):\n",
        "    my_list=[]\n",
        "    for i in os.listdir('./consonants/'+str(con)):\n",
        "        if i!='.BridgeSort':\n",
        "            my_list.append(plt.imread('./consonants/'+ str(con) +'/' +i))\n",
        "    consonants.append(my_list)"
      ],
      "execution_count": 0,
      "outputs": []
    },
    {
      "metadata": {
        "id": "R5Fi9lD36gUO",
        "colab_type": "code",
        "colab": {}
      },
      "cell_type": "code",
      "source": [
        "vowels=[]\n",
        "for con in sorted(list(map(int,os.listdir('./vowels')))):\n",
        "    my_list=[]\n",
        "    for i in os.listdir('./vowels/'+str(con)):\n",
        "        my_list.append(plt.imread('./vowels/'+ str(con) +'/' +i))\n",
        "    vowels.append(my_list)\n",
        "numerals=[]\n",
        "for con in sorted(list(map(int,os.listdir('./numerals')))):\n",
        "    my_list=[]\n",
        "    for i in os.listdir('./numerals/'+str(con)):\n",
        "         my_list.append(plt.imread('./numerals/'+ str(con) +'/' +i))\n",
        "    numerals.append(my_list)"
      ],
      "execution_count": 0,
      "outputs": []
    },
    {
      "metadata": {
        "id": "obMVqJn56gUT",
        "colab_type": "code",
        "colab": {}
      },
      "cell_type": "code",
      "source": [
        "X_train_1=np.array(consonants)\n",
        "X_train_2=np.array(numerals)\n",
        "X_train_3=np.array(vowels)"
      ],
      "execution_count": 0,
      "outputs": []
    },
    {
      "metadata": {
        "id": "OWxKBQJC6gUY",
        "colab_type": "code",
        "colab": {}
      },
      "cell_type": "code",
      "source": [
        "Y_train_1=np.array(label.iloc[34:70,1:3])\n",
        "Y_train_2=np.array(label.iloc[2:12,1:3])\n",
        "Y_train_3=np.array(label.iloc[17:29,1:3])\n"
      ],
      "execution_count": 0,
      "outputs": []
    },
    {
      "metadata": {
        "id": "V8qzLOqw6gUd",
        "colab_type": "code",
        "colab": {}
      },
      "cell_type": "code",
      "source": [
        "Y_train_label=[]\n",
        "Y_train=[]\n",
        "for i in range(X_train_1.shape[0]):\n",
        "    for _ in range(X_train_1.shape[1]):\n",
        "        Y_train.append(i)\n",
        "        Y_train_label.append(Y_train_1[i])\n",
        "for i in range(X_train_2.shape[0]):\n",
        "    for _ in range(X_train_2.shape[1]):\n",
        "        Y_train.append(i+36)\n",
        "        Y_train_label.append(Y_train_2[i])\n",
        "for i in range(X_train_3.shape[0]):\n",
        "    for _ in range(X_train_3.shape[1]):\n",
        "        Y_train.append(i+46)\n",
        "        Y_train_label.append(Y_train_3[i])"
      ],
      "execution_count": 0,
      "outputs": []
    },
    {
      "metadata": {
        "id": "NUpdI1Zs6gVO",
        "colab_type": "code",
        "colab": {
          "base_uri": "https://localhost:8080/",
          "height": 34
        },
        "outputId": "ed8df7f0-9718-457c-c113-00b64313bfa2"
      },
      "cell_type": "code",
      "source": [
        "Y_train=np.array(Y_train)\n",
        "X_train=np.array(list(X_train_1.reshape([36*205,36,36]))+list(X_train_2.reshape([10*288,36,36]))+list(X_train_3.reshape([12*221,36,36])))\n",
        "X_train=X_train.reshape([12912,36,36,1])\n",
        "Y_train=Y_train.reshape([12912,1])\n",
        "X_train.shape,Y_train.shape"
      ],
      "execution_count": 9,
      "outputs": [
        {
          "output_type": "execute_result",
          "data": {
            "text/plain": [
              "((12912, 36, 36, 1), (12912, 1))"
            ]
          },
          "metadata": {
            "tags": []
          },
          "execution_count": 9
        }
      ]
    },
    {
      "metadata": {
        "id": "olMgnfjY6gVc",
        "colab_type": "code",
        "colab": {}
      },
      "cell_type": "code",
      "source": [
        "import tensorflow as tf\n",
        "import tensorflow.keras as keras \n",
        "from tensorflow.keras.models import Sequential\n",
        "from tensorflow.keras.layers import Conv2D,MaxPool2D,Dropout,Dense,Flatten,Activation"
      ],
      "execution_count": 0,
      "outputs": []
    },
    {
      "metadata": {
        "id": "aPHjwHZQ6gVY",
        "colab_type": "code",
        "colab": {}
      },
      "cell_type": "code",
      "source": [
        "Y_train=keras.utils.to_categorical(Y_train,58)"
      ],
      "execution_count": 0,
      "outputs": []
    },
    {
      "metadata": {
        "id": "ZX1gopXa6gVi",
        "colab_type": "code",
        "colab": {
          "base_uri": "https://localhost:8080/",
          "height": 632
        },
        "outputId": "a7778fef-c7ae-4a37-818b-ed575b548ee1"
      },
      "cell_type": "code",
      "source": [
        "model=Sequential()\n",
        "model.add(Conv2D(64,3,activation='relu',padding='same',input_shape=(36,36,1)))\n",
        "model.add(MaxPool2D((2,2),2))\n",
        "model.add(Conv2D(128,3,padding='same',activation='relu'))\n",
        "model.add(Conv2D(256,5,padding='same',activation='relu'))\n",
        "model.add(MaxPool2D((2,2),2))\n",
        "model.add(Conv2D(256,5,padding='same',activation='relu'))\n",
        "model.add(Flatten())\n",
        "model.add(Dropout(0.01))\n",
        "model.add(Dense(256,activation='relu'))\n",
        "model.add(Dense(256,activation='relu'))\n",
        "model.add(Dense(58,activation='softmax'))\n",
        "model.summary()"
      ],
      "execution_count": 12,
      "outputs": [
        {
          "output_type": "stream",
          "text": [
            "WARNING:tensorflow:From /usr/local/lib/python3.6/dist-packages/tensorflow/python/ops/resource_variable_ops.py:435: colocate_with (from tensorflow.python.framework.ops) is deprecated and will be removed in a future version.\n",
            "Instructions for updating:\n",
            "Colocations handled automatically by placer.\n",
            "WARNING:tensorflow:From /usr/local/lib/python3.6/dist-packages/tensorflow/python/keras/layers/core.py:143: calling dropout (from tensorflow.python.ops.nn_ops) with keep_prob is deprecated and will be removed in a future version.\n",
            "Instructions for updating:\n",
            "Please use `rate` instead of `keep_prob`. Rate should be set to `rate = 1 - keep_prob`.\n",
            "_________________________________________________________________\n",
            "Layer (type)                 Output Shape              Param #   \n",
            "=================================================================\n",
            "conv2d (Conv2D)              (None, 36, 36, 64)        640       \n",
            "_________________________________________________________________\n",
            "max_pooling2d (MaxPooling2D) (None, 18, 18, 64)        0         \n",
            "_________________________________________________________________\n",
            "conv2d_1 (Conv2D)            (None, 18, 18, 128)       73856     \n",
            "_________________________________________________________________\n",
            "conv2d_2 (Conv2D)            (None, 18, 18, 256)       819456    \n",
            "_________________________________________________________________\n",
            "max_pooling2d_1 (MaxPooling2 (None, 9, 9, 256)         0         \n",
            "_________________________________________________________________\n",
            "conv2d_3 (Conv2D)            (None, 9, 9, 256)         1638656   \n",
            "_________________________________________________________________\n",
            "flatten (Flatten)            (None, 20736)             0         \n",
            "_________________________________________________________________\n",
            "dropout (Dropout)            (None, 20736)             0         \n",
            "_________________________________________________________________\n",
            "dense (Dense)                (None, 256)               5308672   \n",
            "_________________________________________________________________\n",
            "dense_1 (Dense)              (None, 256)               65792     \n",
            "_________________________________________________________________\n",
            "dense_2 (Dense)              (None, 58)                14906     \n",
            "=================================================================\n",
            "Total params: 7,921,978\n",
            "Trainable params: 7,921,978\n",
            "Non-trainable params: 0\n",
            "_________________________________________________________________\n"
          ],
          "name": "stdout"
        }
      ]
    },
    {
      "metadata": {
        "id": "ZF5VOsWU6gVo",
        "colab_type": "code",
        "colab": {}
      },
      "cell_type": "code",
      "source": [
        "from sklearn.model_selection import train_test_split\n",
        "from sklearn.utils import shuffle\n",
        "X_train,Y_train=shuffle(X_train,Y_train,random_state=2)\n",
        "X_train,X_test,Y_train,Y_test=train_test_split(X_train,Y_train,test_size=0.1,random_state=2)"
      ],
      "execution_count": 0,
      "outputs": []
    },
    {
      "metadata": {
        "id": "VSzyJAc0SG46",
        "colab_type": "code",
        "colab": {}
      },
      "cell_type": "code",
      "source": [
        "X_train=keras.utils.normalize(X_train,axis=1)"
      ],
      "execution_count": 0,
      "outputs": []
    },
    {
      "metadata": {
        "id": "Q9iOvHhkmv6a",
        "colab_type": "code",
        "colab": {}
      },
      "cell_type": "code",
      "source": [
        "X_train,X_val,Y_train,Y_val=train_test_split(X_train,Y_train,test_size=0.1,random_state=2)"
      ],
      "execution_count": 0,
      "outputs": []
    },
    {
      "metadata": {
        "id": "nskxF1aP6gVs",
        "colab_type": "code",
        "colab": {
          "base_uri": "https://localhost:8080/",
          "height": 119
        },
        "outputId": "d2916cac-6bee-44d1-f6fd-dd218b5fd11d"
      },
      "cell_type": "code",
      "source": [
        "X_train.shape,X_val.shape,X_test.shape,Y_train.shape,Y_val.shape,Y_test.shape"
      ],
      "execution_count": 16,
      "outputs": [
        {
          "output_type": "execute_result",
          "data": {
            "text/plain": [
              "((10458, 36, 36, 1),\n",
              " (1162, 36, 36, 1),\n",
              " (1292, 36, 36, 1),\n",
              " (10458, 58),\n",
              " (1162, 58),\n",
              " (1292, 58))"
            ]
          },
          "metadata": {
            "tags": []
          },
          "execution_count": 16
        }
      ]
    },
    {
      "metadata": {
        "id": "KXk-utV-YEGd",
        "colab_type": "code",
        "colab": {
          "base_uri": "https://localhost:8080/",
          "height": 364
        },
        "outputId": "ecb31f42-2e33-4e37-852a-10eba5ff9745"
      },
      "cell_type": "code",
      "source": [
        "plt.imshow(X_test[1].reshape([36,36]))"
      ],
      "execution_count": 17,
      "outputs": [
        {
          "output_type": "execute_result",
          "data": {
            "text/plain": [
              "<matplotlib.image.AxesImage at 0x7f415923b940>"
            ]
          },
          "metadata": {
            "tags": []
          },
          "execution_count": 17
        },
        {
          "output_type": "display_data",
          "data": {
            "image/png": "[encoded data removed]",
            "text/plain": [
              "<Figure size 576x396 with 1 Axes>"
            ]
          },
          "metadata": {
            "tags": []
          }
        }
      ]
    },
    {
      "metadata": {
        "id": "nyi5xQdn6gW3",
        "colab_type": "code",
        "colab": {}
      },
      "cell_type": "code",
      "source": [
        "import tensorflow.keras.optimizers as optimizers\n",
        "adam = optimizers.Adam(lr=0.001)"
      ],
      "execution_count": 0,
      "outputs": []
    },
    {
      "metadata": {
        "id": "J_73d-Ho6gW9",
        "colab_type": "code",
        "colab": {}
      },
      "cell_type": "code",
      "source": [
        "model.compile(optimizer=adam,loss='binary_crossentropy',metrics=['accuracy'])"
      ],
      "execution_count": 0,
      "outputs": []
    },
    {
      "metadata": {
        "id": "QD3tthFxpAb_",
        "colab_type": "code",
        "outputId": "bf6b844c-d353-4a2c-d4c4-e265a54fbf90",
        "colab": {
          "base_uri": "https://localhost:8080/",
          "height": 785
        }
      },
      "cell_type": "code",
      "source": [
        "history=model.fit(X_train,Y_train,batch_size=400,epochs=20,validation_data =(X_val,Y_val))"
      ],
      "execution_count": 20,
      "outputs": [
        {
          "output_type": "stream",
          "text": [
            "Train on 10458 samples, validate on 1162 samples\n",
            "WARNING:tensorflow:From /usr/local/lib/python3.6/dist-packages/tensorflow/python/ops/math_ops.py:3066: to_int32 (from tensorflow.python.ops.math_ops) is deprecated and will be removed in a future version.\n",
            "Instructions for updating:\n",
            "Use tf.cast instead.\n",
            "Epoch 1/20\n",
            "10458/10458 [==============================] - 13s 1ms/sample - loss: 0.0870 - acc: 0.9828 - val_loss: 0.0857 - val_acc: 0.9828\n",
            "Epoch 2/20\n",
            "10458/10458 [==============================] - 6s 588us/sample - loss: 0.0660 - acc: 0.9840 - val_loss: 0.0419 - val_acc: 0.9868\n",
            "Epoch 3/20\n",
            "10458/10458 [==============================] - 6s 582us/sample - loss: 0.0313 - acc: 0.9896 - val_loss: 0.0241 - val_acc: 0.9915\n",
            "Epoch 4/20\n",
            "10458/10458 [==============================] - 6s 584us/sample - loss: 0.0186 - acc: 0.9937 - val_loss: 0.0173 - val_acc: 0.9938\n",
            "Epoch 5/20\n",
            "10458/10458 [==============================] - 6s 588us/sample - loss: 0.0118 - acc: 0.9959 - val_loss: 0.0151 - val_acc: 0.9946\n",
            "Epoch 6/20\n",
            "10458/10458 [==============================] - 6s 585us/sample - loss: 0.0076 - acc: 0.9974 - val_loss: 0.0124 - val_acc: 0.9961\n",
            "Epoch 7/20\n",
            "10458/10458 [==============================] - 6s 581us/sample - loss: 0.0046 - acc: 0.9984 - val_loss: 0.0117 - val_acc: 0.9963\n",
            "Epoch 8/20\n",
            "10458/10458 [==============================] - 6s 580us/sample - loss: 0.0028 - acc: 0.9991 - val_loss: 0.0121 - val_acc: 0.9961\n",
            "Epoch 9/20\n",
            "10458/10458 [==============================] - 6s 582us/sample - loss: 0.0022 - acc: 0.9993 - val_loss: 0.0120 - val_acc: 0.9966\n",
            "Epoch 10/20\n",
            "10458/10458 [==============================] - 6s 581us/sample - loss: 0.0011 - acc: 0.9996 - val_loss: 0.0125 - val_acc: 0.9964\n",
            "Epoch 11/20\n",
            "10458/10458 [==============================] - 6s 577us/sample - loss: 0.0012 - acc: 0.9996 - val_loss: 0.0135 - val_acc: 0.9965\n",
            "Epoch 12/20\n",
            "10458/10458 [==============================] - 6s 576us/sample - loss: 0.0019 - acc: 0.9993 - val_loss: 0.0129 - val_acc: 0.9968\n",
            "Epoch 13/20\n",
            "10458/10458 [==============================] - 6s 578us/sample - loss: 0.0011 - acc: 0.9997 - val_loss: 0.0121 - val_acc: 0.9968\n",
            "Epoch 14/20\n",
            "10458/10458 [==============================] - 6s 580us/sample - loss: 3.5604e-04 - acc: 0.9999 - val_loss: 0.0120 - val_acc: 0.9969\n",
            "Epoch 15/20\n",
            "10458/10458 [==============================] - 6s 573us/sample - loss: 4.8287e-04 - acc: 0.9999 - val_loss: 0.0128 - val_acc: 0.9970\n",
            "Epoch 16/20\n",
            "10458/10458 [==============================] - 6s 575us/sample - loss: 7.7633e-04 - acc: 0.9998 - val_loss: 0.0123 - val_acc: 0.9971\n",
            "Epoch 17/20\n",
            "10458/10458 [==============================] - 6s 576us/sample - loss: 5.5348e-04 - acc: 0.9998 - val_loss: 0.0139 - val_acc: 0.9969\n",
            "Epoch 18/20\n",
            "10458/10458 [==============================] - 6s 579us/sample - loss: 0.0011 - acc: 0.9997 - val_loss: 0.0117 - val_acc: 0.9968\n",
            "Epoch 19/20\n",
            "10458/10458 [==============================] - 6s 571us/sample - loss: 6.9536e-04 - acc: 0.9998 - val_loss: 0.0120 - val_acc: 0.9969\n",
            "Epoch 20/20\n",
            "10458/10458 [==============================] - 6s 572us/sample - loss: 0.0010 - acc: 0.9997 - val_loss: 0.0133 - val_acc: 0.9968\n"
          ],
          "name": "stdout"
        }
      ]
    },
    {
      "metadata": {
        "id": "wAgESwUNpMqq",
        "colab_type": "code",
        "outputId": "88ad73d6-c75b-43d6-c15b-66c040f822aa",
        "colab": {
          "base_uri": "https://localhost:8080/",
          "height": 347
        }
      },
      "cell_type": "code",
      "source": [
        "fig, ax = plt.subplots(2,1)\n",
        "ax[0].plot(history.history['loss'], color='b', label=\"Training loss\")\n",
        "ax[0].plot(history.history['val_loss'], color='r', label=\"validation loss\",axes =ax[0])\n",
        "legend = ax[0].legend(loc='best', shadow=True)\n",
        "\n",
        "ax[1].plot(history.history['acc'], color='b', label=\"Training accuracy\")\n",
        "ax[1].plot(history.history['val_acc'], color='r',label=\"Validation accuracy\")\n",
        "legend = ax[1].legend(loc='best', shadow=True)"
      ],
      "execution_count": 21,
      "outputs": [
        {
          "output_type": "display_data",
          "data": {
            "image/png": "[encoded data removed]",
            "text/plain": [
              "<Figure size 576x396 with 2 Axes>"
            ]
          },
          "metadata": {
            "tags": []
          }
        }
      ]
    },
    {
      "metadata": {
        "id": "LPj7edpfVHqB",
        "colab_type": "code",
        "outputId": "b6e0f967-e0b0-4e43-a05d-656da7d54f9a",
        "colab": {
          "base_uri": "https://localhost:8080/",
          "height": 544
        }
      },
      "cell_type": "code",
      "source": [
        "model1=Sequential()\n",
        "model1.add(Conv2D(96,3,activation='relu',padding='same',input_shape=(36,36,1)))\n",
        "model1.add(MaxPool2D((2,2),2))\n",
        "model1.add(Conv2D(256,3,activation='relu',padding='same'))\n",
        "model1.add(MaxPool2D((2,2),2))\n",
        "model1.add(Conv2D(384,5,activation='relu',padding='same'))\n",
        "model1.add(Conv2D(384,5,activation='relu',padding='same'))\n",
        "model1.add(Conv2D(256,3,activation='relu',padding='same'))\n",
        "model1.add(Flatten())\n",
        "model1.add(Dropout(0.01))\n",
        "model1.add(Dense(4096,activation='relu'))\n",
        "model1.add(Dense(4096,activation='relu'))\n",
        "model1.add(Dense(58,activation='softmax'))\n",
        "model1.summary()"
      ],
      "execution_count": 71,
      "outputs": [
        {
          "output_type": "stream",
          "text": [
            "_________________________________________________________________\n",
            "Layer (type)                 Output Shape              Param #   \n",
            "=================================================================\n",
            "conv2d_18 (Conv2D)           (None, 36, 36, 96)        960       \n",
            "_________________________________________________________________\n",
            "max_pooling2d_8 (MaxPooling2 (None, 18, 18, 96)        0         \n",
            "_________________________________________________________________\n",
            "conv2d_19 (Conv2D)           (None, 18, 18, 256)       221440    \n",
            "_________________________________________________________________\n",
            "max_pooling2d_9 (MaxPooling2 (None, 9, 9, 256)         0         \n",
            "_________________________________________________________________\n",
            "conv2d_20 (Conv2D)           (None, 9, 9, 384)         2457984   \n",
            "_________________________________________________________________\n",
            "conv2d_21 (Conv2D)           (None, 9, 9, 384)         3686784   \n",
            "_________________________________________________________________\n",
            "conv2d_22 (Conv2D)           (None, 9, 9, 256)         884992    \n",
            "_________________________________________________________________\n",
            "flatten_4 (Flatten)          (None, 20736)             0         \n",
            "_________________________________________________________________\n",
            "dropout_4 (Dropout)          (None, 20736)             0         \n",
            "_________________________________________________________________\n",
            "dense_12 (Dense)             (None, 4096)              84938752  \n",
            "_________________________________________________________________\n",
            "dense_13 (Dense)             (None, 4096)              16781312  \n",
            "_________________________________________________________________\n",
            "dense_14 (Dense)             (None, 58)                237626    \n",
            "=================================================================\n",
            "Total params: 109,209,850\n",
            "Trainable params: 109,209,850\n",
            "Non-trainable params: 0\n",
            "_________________________________________________________________\n"
          ],
          "name": "stdout"
        }
      ]
    },
    {
      "metadata": {
        "id": "0Riwz5PbtD5D",
        "colab_type": "code",
        "colab": {}
      },
      "cell_type": "code",
      "source": [
        "model1.compile(optimizer=adam,loss='binary_crossentropy',metrics=['accuracy'])"
      ],
      "execution_count": 0,
      "outputs": []
    },
    {
      "metadata": {
        "colab_type": "code",
        "id": "y3Qo-pDcpjNt",
        "colab": {}
      },
      "cell_type": "code",
      "source": [
        "from tensorflow.keras.preprocessing.image import ImageDataGenerator\n",
        "datagen = ImageDataGenerator(rotation_range = 20, zoom_range = 0.2, width_shift_range = 0.2, height_shift_range = 0.2)\n",
        "datagen.fit(X_train)"
      ],
      "execution_count": 0,
      "outputs": []
    },
    {
      "metadata": {
        "colab_type": "code",
        "id": "0dtOLEqspiv2",
        "colab": {}
      },
      "cell_type": "code",
      "source": [
        "reduce_lr =keras.callbacks.ReduceLROnPlateau(monitor='val_loss', factor=0.5, patience=3, mode='auto', min_lr=0.0001)"
      ],
      "execution_count": 0,
      "outputs": []
    },
    {
      "metadata": {
        "colab_type": "code",
        "outputId": "ff3c6384-6fba-4119-bcfa-3506857f9645",
        "id": "rE19XsFJpiKb",
        "colab": {
          "base_uri": "https://localhost:8080/",
          "height": 1037
        }
      },
      "cell_type": "code",
      "source": [
        "history1=model1.fit_generator(datagen.flow(X_train, Y_train, batch_size = 400),verbose=2,epochs = 20, steps_per_epoch = X_train.shape[0] //400, validation_data = (X_val,Y_val),callbacks=[reduce_lr])"
      ],
      "execution_count": 75,
      "outputs": [
        {
          "output_type": "stream",
          "text": [
            "Epoch 1/20\n",
            "1162/1162 [==============================] - 2s 2ms/sample - loss: 0.0870 - acc: 0.9828\n",
            " - 24s - loss: 0.0871 - acc: 0.9828 - val_loss: 0.0870 - val_acc: 0.9828\n",
            "Epoch 2/20\n",
            "1162/1162 [==============================] - 1s 457us/sample - loss: 0.0869 - acc: 0.9828\n",
            " - 16s - loss: 0.0870 - acc: 0.9828 - val_loss: 0.0869 - val_acc: 0.9828\n",
            "Epoch 3/20\n",
            "1162/1162 [==============================] - 1s 459us/sample - loss: 0.0865 - acc: 0.9828\n",
            " - 16s - loss: 0.0863 - acc: 0.9828 - val_loss: 0.0865 - val_acc: 0.9828\n",
            "Epoch 4/20\n",
            "1162/1162 [==============================] - 1s 472us/sample - loss: 0.0747 - acc: 0.9828\n",
            " - 16s - loss: 0.0819 - acc: 0.9828 - val_loss: 0.0746 - val_acc: 0.9828\n",
            "Epoch 5/20\n",
            "1162/1162 [==============================] - 1s 482us/sample - loss: 0.0618 - acc: 0.9833\n",
            " - 16s - loss: 0.0754 - acc: 0.9828 - val_loss: 0.0617 - val_acc: 0.9833\n",
            "Epoch 6/20\n",
            "1162/1162 [==============================] - 1s 470us/sample - loss: 0.0590 - acc: 0.9838\n",
            " - 16s - loss: 0.0688 - acc: 0.9830 - val_loss: 0.0590 - val_acc: 0.9838\n",
            "Epoch 7/20\n",
            "1162/1162 [==============================] - 1s 454us/sample - loss: 0.0448 - acc: 0.9853\n",
            " - 16s - loss: 0.0617 - acc: 0.9833 - val_loss: 0.0448 - val_acc: 0.9853\n",
            "Epoch 8/20\n",
            "1162/1162 [==============================] - 1s 446us/sample - loss: 0.0366 - acc: 0.9872\n",
            " - 16s - loss: 0.0545 - acc: 0.9840 - val_loss: 0.0366 - val_acc: 0.9872\n",
            "Epoch 9/20\n",
            "1162/1162 [==============================] - 1s 459us/sample - loss: 0.0355 - acc: 0.9875\n",
            " - 16s - loss: 0.0481 - acc: 0.9848 - val_loss: 0.0354 - val_acc: 0.9875\n",
            "Epoch 10/20\n",
            "1162/1162 [==============================] - 1s 475us/sample - loss: 0.0253 - acc: 0.9908\n",
            " - 16s - loss: 0.0434 - acc: 0.9859 - val_loss: 0.0252 - val_acc: 0.9908\n",
            "Epoch 11/20\n",
            "1162/1162 [==============================] - 1s 465us/sample - loss: 0.0223 - acc: 0.9914\n",
            " - 16s - loss: 0.0385 - acc: 0.9871 - val_loss: 0.0223 - val_acc: 0.9914\n",
            "Epoch 12/20\n",
            "1162/1162 [==============================] - 1s 465us/sample - loss: 0.0187 - acc: 0.9930\n",
            " - 16s - loss: 0.0331 - acc: 0.9884 - val_loss: 0.0187 - val_acc: 0.9930\n",
            "Epoch 13/20\n",
            "1162/1162 [==============================] - 1s 466us/sample - loss: 0.0190 - acc: 0.9927\n",
            " - 16s - loss: 0.0306 - acc: 0.9892 - val_loss: 0.0190 - val_acc: 0.9927\n",
            "Epoch 14/20\n",
            "1162/1162 [==============================] - 1s 472us/sample - loss: 0.0137 - acc: 0.9951\n",
            " - 16s - loss: 0.0298 - acc: 0.9895 - val_loss: 0.0137 - val_acc: 0.9951\n",
            "Epoch 15/20\n",
            "1162/1162 [==============================] - 1s 464us/sample - loss: 0.0133 - acc: 0.9953\n",
            " - 16s - loss: 0.0261 - acc: 0.9908 - val_loss: 0.0133 - val_acc: 0.9953\n",
            "Epoch 16/20\n",
            "1162/1162 [==============================] - 1s 462us/sample - loss: 0.0144 - acc: 0.9945\n",
            " - 16s - loss: 0.0245 - acc: 0.9913 - val_loss: 0.0144 - val_acc: 0.9945\n",
            "Epoch 17/20\n",
            "1162/1162 [==============================] - 1s 457us/sample - loss: 0.0125 - acc: 0.9952\n",
            " - 16s - loss: 0.0218 - acc: 0.9921 - val_loss: 0.0124 - val_acc: 0.9952\n",
            "Epoch 18/20\n",
            "1162/1162 [==============================] - 1s 462us/sample - loss: 0.0099 - acc: 0.9961\n",
            " - 16s - loss: 0.0215 - acc: 0.9921 - val_loss: 0.0099 - val_acc: 0.9961\n",
            "Epoch 19/20\n",
            "1162/1162 [==============================] - 1s 476us/sample - loss: 0.0096 - acc: 0.9965\n",
            " - 16s - loss: 0.0195 - acc: 0.9929 - val_loss: 0.0095 - val_acc: 0.9965\n",
            "Epoch 20/20\n",
            "1162/1162 [==============================] - 1s 834us/sample - loss: 0.0081 - acc: 0.9970\n",
            " - 16s - loss: 0.0195 - acc: 0.9929 - val_loss: 0.0084 - val_acc: 0.9970\n"
          ],
          "name": "stdout"
        }
      ]
    },
    {
      "metadata": {
        "id": "HHPghmplpmCF",
        "colab_type": "code",
        "outputId": "2142ea73-7f4a-42da-f2a2-30c7dcd4d99e",
        "colab": {
          "base_uri": "https://localhost:8080/",
          "height": 347
        }
      },
      "cell_type": "code",
      "source": [
        "fig, ax = plt.subplots(2,1)\n",
        "ax[0].plot(history1.history['loss'], color='b', label=\"Training loss\")\n",
        "ax[0].plot(history1.history['val_loss'], color='r', label=\"validation loss\",axes =ax[0])\n",
        "legend = ax[0].legend(loc='best', shadow=True)\n",
        "\n",
        "ax[1].plot(history1.history['acc'], color='b', label=\"Training accuracy\")\n",
        "ax[1].plot(history1.history['val_acc'], color='r',label=\"Validation accuracy\")\n",
        "legend = ax[1].legend(loc='best', shadow=True)"
      ],
      "execution_count": 76,
      "outputs": [
        {
          "output_type": "display_data",
          "data": {
            "image/png": "[encoded data removed]",
            "text/plain": [
              "<Figure size 576x396 with 2 Axes>"
            ]
          },
          "metadata": {
            "tags": []
          }
        }
      ]
    },
    {
      "metadata": {
        "id": "_INFmUycOPo3",
        "colab_type": "code",
        "colab": {}
      },
      "cell_type": "code",
      "source": [
        "model.save('model.h5')"
      ],
      "execution_count": 0,
      "outputs": []
    },
    {
      "metadata": {
        "id": "S3ivk25fOVQw",
        "colab_type": "code",
        "outputId": "688ceebb-230e-4850-83d7-60a6a0d2ab4a",
        "colab": {
          "base_uri": "https://localhost:8080/",
          "height": 51
        }
      },
      "cell_type": "code",
      "source": [
        "model.evaluate(keras.utils.normalize(X_test,axis=1), Y_test, batch_size =400, verbose =1)"
      ],
      "execution_count": 48,
      "outputs": [
        {
          "output_type": "stream",
          "text": [
            "1292/1292 [==============================] - 0s 272us/sample - loss: 0.0161 - acc: 0.9963\n"
          ],
          "name": "stdout"
        },
        {
          "output_type": "execute_result",
          "data": {
            "text/plain": [
              "[0.01608943457689263, 0.9963035]"
            ]
          },
          "metadata": {
            "tags": []
          },
          "execution_count": 48
        }
      ]
    },
    {
      "metadata": {
        "id": "_4KL-p5VY_vb",
        "colab_type": "code",
        "outputId": "0a90cd2b-84e8-4070-93c4-23bd3480a1fb",
        "colab": {
          "base_uri": "https://localhost:8080/",
          "height": 34
        }
      },
      "cell_type": "code",
      "source": [
        "model.metrics_names"
      ],
      "execution_count": 49,
      "outputs": [
        {
          "output_type": "execute_result",
          "data": {
            "text/plain": [
              "['loss', 'acc']"
            ]
          },
          "metadata": {
            "tags": []
          },
          "execution_count": 49
        }
      ]
    },
    {
      "metadata": {
        "id": "i9P8L14bOe31",
        "colab_type": "code",
        "outputId": "b7f46619-975f-4ea5-b86d-61e6350c0bc2",
        "colab": {
          "base_uri": "https://localhost:8080/",
          "height": 34
        }
      },
      "cell_type": "code",
      "source": [
        "predicted = model.predict(x = keras.utils.normalize(X_test,axis=1), verbose = 1)"
      ],
      "execution_count": 50,
      "outputs": [
        {
          "output_type": "stream",
          "text": [
            "1292/1292 [==============================] - 0s 365us/sample\n"
          ],
          "name": "stdout"
        }
      ]
    },
    {
      "metadata": {
        "id": "M4ibqHIUWKzX",
        "colab_type": "code",
        "colab": {}
      },
      "cell_type": "code",
      "source": [
        "predicted = np.argmax(predicted, axis = 1)"
      ],
      "execution_count": 0,
      "outputs": []
    },
    {
      "metadata": {
        "id": "FPyLnK3nOhEl",
        "colab_type": "code",
        "outputId": "442f1937-6847-4554-8730-45f53a9060d9",
        "colab": {
          "base_uri": "https://localhost:8080/",
          "height": 364
        }
      },
      "cell_type": "code",
      "source": [
        "i=1\n",
        "img = X_test[i].reshape([36,36])\n",
        "plt.imshow(img)\n",
        "if(predicted[i]<36):\n",
        "  print(Y_train_1[predicted[i]])\n",
        "elif(46>predicted[i]>=36):\n",
        "  print(Y_train_2[predicted[i]-36])\n",
        "else:\n",
        "  print(Y_train_3[predicted[i]-46])"
      ],
      "execution_count": 53,
      "outputs": [
        {
          "output_type": "stream",
          "text": [
            "['a' 'अ']\n"
          ],
          "name": "stdout"
        },
        {
          "output_type": "display_data",
          "data": {
            "image/png": "[encoded data removed]",
            "text/plain": [
              "<Figure size 576x396 with 1 Axes>"
            ]
          },
          "metadata": {
            "tags": []
          }
        }
      ]
    },
    {
      "metadata": {
        "id": "cUMTHcsCfgfl",
        "colab_type": "code",
        "colab": {}
      },
      "cell_type": "code",
      "source": [
        "model1.save('model1.h5')"
      ],
      "execution_count": 0,
      "outputs": []
    },
    {
      "metadata": {
        "id": "MWRyQQgFZyLk",
        "colab_type": "code",
        "outputId": "00129fd0-6836-4cce-c79b-9a127a3c34e4",
        "colab": {
          "base_uri": "https://localhost:8080/",
          "height": 51
        }
      },
      "cell_type": "code",
      "source": [
        "model1.evaluate(keras.utils.normalize(X_test,axis=1), Y_test, batch_size =400, verbose =1)"
      ],
      "execution_count": 78,
      "outputs": [
        {
          "output_type": "stream",
          "text": [
            "1292/1292 [==============================] - 1s 884us/sample - loss: 0.0085 - acc: 0.9968\n"
          ],
          "name": "stdout"
        },
        {
          "output_type": "execute_result",
          "data": {
            "text/plain": [
              "[0.008452028534937385, 0.9968105]"
            ]
          },
          "metadata": {
            "tags": []
          },
          "execution_count": 78
        }
      ]
    },
    {
      "metadata": {
        "id": "iWiXkdNJZ5_D",
        "colab_type": "code",
        "outputId": "1230f2c5-21b5-4599-e7ce-1f056f6bb5a3",
        "colab": {
          "base_uri": "https://localhost:8080/",
          "height": 34
        }
      },
      "cell_type": "code",
      "source": [
        "predicted = model1.predict(x = keras.utils.normalize(X_test,axis=1), verbose = 1)"
      ],
      "execution_count": 79,
      "outputs": [
        {
          "output_type": "stream",
          "text": [
            "1292/1292 [==============================] - 2s 1ms/sample\n"
          ],
          "name": "stdout"
        }
      ]
    },
    {
      "metadata": {
        "id": "EYupiSS1Z8vQ",
        "colab_type": "code",
        "colab": {}
      },
      "cell_type": "code",
      "source": [
        "predicted=np.argmax(predicted,axis=1)"
      ],
      "execution_count": 0,
      "outputs": []
    },
    {
      "metadata": {
        "id": "-jx_je1qceTO",
        "colab_type": "code",
        "outputId": "d2b8c2ec-3c3c-483a-ee58-72f01d77cff3",
        "colab": {
          "base_uri": "https://localhost:8080/",
          "height": 364
        }
      },
      "cell_type": "code",
      "source": [
        "i=4\n",
        "img = X_test[i].reshape([36,36])\n",
        "plt.imshow(img)\n",
        "if(predicted[i]<36):\n",
        "  print(Y_train_1[predicted[i]])\n",
        "elif(46>predicted[i]>=36):\n",
        "  print(Y_train_2[predicted[i]-36])\n",
        "else:\n",
        "  print(Y_train_3[predicted[i]-46])"
      ],
      "execution_count": 81,
      "outputs": [
        {
          "output_type": "stream",
          "text": [
            "['cha' 'च']\n"
          ],
          "name": "stdout"
        },
        {
          "output_type": "display_data",
          "data": {
            "image/png": "[encoded data removed]",
            "text/plain": [
              "<Figure size 576x396 with 1 Axes>"
            ]
          },
          "metadata": {
            "tags": []
          }
        }
      ]
    }
  ]
}