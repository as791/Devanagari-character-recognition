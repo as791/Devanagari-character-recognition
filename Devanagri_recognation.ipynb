{
  "nbformat": 4,
  "nbformat_minor": 0,
  "metadata": {
    "colab": {
      "name": "Devanagri-recognation.ipynb",
      "version": "0.3.2",
      "provenance": [],
      "collapsed_sections": [],
      "include_colab_link": true
    },
    "kernelspec": {
      "name": "python3",
      "display_name": "Python 3"
    },
    "accelerator": "GPU"
  },
  "cells": [
    {
      "cell_type": "markdown",
      "metadata": {
        "id": "view-in-github",
        "colab_type": "text"
      },
      "source": [
        "<a href=\"https://colab.research.google.com/github/as791/Devanagri-character-recognition/blob/master/Devanagri_recognation.ipynb\" target=\"_parent\"><img src=\"https://colab.research.google.com/assets/colab-badge.svg\" alt=\"Open In Colab\"/></a>"
      ]
    },
    {
      "cell_type": "code",
      "metadata": {
        "id": "CdgKfD1g6gTX",
        "colab_type": "code",
        "outputId": "2a7a5391-8b6c-471f-e7ef-4a13e36a536d",
        "colab": {
          "base_uri": "https://localhost:8080/",
          "height": 34
        }
      },
      "source": [
        "import pandas as pd\n",
        "import numpy as np\n",
        "import os \n",
        "from google.colab import drive\n",
        "drive.mount('/content/drive',force_remount=True)\n",
        "os.chdir('/content/drive/My Drive/devanagari-character-dataset')"
      ],
      "execution_count": 1,
      "outputs": [
        {
          "output_type": "stream",
          "text": [
            "Mounted at /content/drive\n"
          ],
          "name": "stdout"
        }
      ]
    },
    {
      "cell_type": "code",
      "metadata": {
        "id": "gOtbvJEk6gUE",
        "colab_type": "code",
        "colab": {}
      },
      "source": [
        "label=pd.read_csv('./labels.csv')"
      ],
      "execution_count": 0,
      "outputs": []
    },
    {
      "cell_type": "code",
      "metadata": {
        "id": "Gsug8OAa6gUI",
        "colab_type": "code",
        "colab": {
          "base_uri": "https://localhost:8080/",
          "height": 34
        },
        "outputId": "b74be83a-60b9-4182-eadf-8afd261e7697"
      },
      "source": [
        "import matplotlib.pyplot as plt\n",
        "from tqdm import tqdm\n",
        "consonants=[]\n",
        "for con in tqdm(sorted(list(map(int,os.listdir('./consonants'))))):\n",
        "    my_list=[]\n",
        "    for i in os.listdir('./consonants/'+str(con)):\n",
        "        if i!='.BridgeSort':\n",
        "            my_list.append(plt.imread('./consonants/'+ str(con) +'/' +i))\n",
        "    consonants.append(my_list)"
      ],
      "execution_count": 3,
      "outputs": [
        {
          "output_type": "stream",
          "text": [
            "100%|██████████| 36/36 [28:25<00:00, 54.56s/it]\n"
          ],
          "name": "stderr"
        }
      ]
    },
    {
      "cell_type": "code",
      "metadata": {
        "id": "R5Fi9lD36gUO",
        "colab_type": "code",
        "colab": {
          "base_uri": "https://localhost:8080/",
          "height": 51
        },
        "outputId": "d1da922d-546e-401f-d75c-84cd7ce0cd5a"
      },
      "source": [
        "vowels=[]\n",
        "for con in tqdm(sorted(list(map(int,os.listdir('./vowels'))))):\n",
        "    my_list=[]\n",
        "    for i in os.listdir('./vowels/'+str(con)):\n",
        "        my_list.append(plt.imread('./vowels/'+ str(con) +'/' +i))\n",
        "    vowels.append(my_list)\n",
        "numerals=[]\n",
        "for con in tqdm(sorted(list(map(int,os.listdir('./numerals'))))):\n",
        "    my_list=[]\n",
        "    for i in os.listdir('./numerals/'+str(con)):\n",
        "         my_list.append(plt.imread('./numerals/'+ str(con) +'/' +i))\n",
        "    numerals.append(my_list)"
      ],
      "execution_count": 4,
      "outputs": [
        {
          "output_type": "stream",
          "text": [
            "100%|██████████| 12/12 [10:28<00:00, 52.19s/it]\n",
            "100%|██████████| 10/10 [12:54<00:00, 78.99s/it]\n"
          ],
          "name": "stderr"
        }
      ]
    },
    {
      "cell_type": "code",
      "metadata": {
        "id": "obMVqJn56gUT",
        "colab_type": "code",
        "colab": {}
      },
      "source": [
        "X_train_1=np.array(consonants)\n",
        "X_train_2=np.array(numerals)\n",
        "X_train_3=np.array(vowels)"
      ],
      "execution_count": 0,
      "outputs": []
    },
    {
      "cell_type": "code",
      "metadata": {
        "id": "OWxKBQJC6gUY",
        "colab_type": "code",
        "colab": {}
      },
      "source": [
        "Y_train_1=np.array(label.iloc[34:70,1:3])\n",
        "Y_train_2=np.array(label.iloc[2:12,1:3])\n",
        "Y_train_3=np.array(label.iloc[17:29,1:3])\n"
      ],
      "execution_count": 0,
      "outputs": []
    },
    {
      "cell_type": "code",
      "metadata": {
        "id": "V8qzLOqw6gUd",
        "colab_type": "code",
        "colab": {}
      },
      "source": [
        "Y_train_label=[]\n",
        "Y_train=[]\n",
        "for i in range(X_train_1.shape[0]):\n",
        "    for _ in range(X_train_1.shape[1]):\n",
        "        Y_train.append(i)\n",
        "        Y_train_label.append(Y_train_1[i])\n",
        "for i in range(X_train_2.shape[0]):\n",
        "    for _ in range(X_train_2.shape[1]):\n",
        "        Y_train.append(i+36)\n",
        "        Y_train_label.append(Y_train_2[i])\n",
        "for i in range(X_train_3.shape[0]):\n",
        "    for _ in range(X_train_3.shape[1]):\n",
        "        Y_train.append(i+46)\n",
        "        Y_train_label.append(Y_train_3[i])"
      ],
      "execution_count": 0,
      "outputs": []
    },
    {
      "cell_type": "code",
      "metadata": {
        "id": "NUpdI1Zs6gVO",
        "colab_type": "code",
        "outputId": "2982e7d9-5f9b-4b2c-b712-163ebeb0b641",
        "colab": {
          "base_uri": "https://localhost:8080/",
          "height": 34
        }
      },
      "source": [
        "Y_train=np.array(Y_train)\n",
        "X_train=np.array(list(X_train_1.reshape([36*205,36,36]))+list(X_train_2.reshape([10*288,36,36]))+list(X_train_3.reshape([12*221,36,36])))\n",
        "X_train=X_train.reshape([12912,36,36,1])\n",
        "Y_train=Y_train.reshape([12912,1])\n",
        "X_train.shape,Y_train.shape"
      ],
      "execution_count": 8,
      "outputs": [
        {
          "output_type": "execute_result",
          "data": {
            "text/plain": [
              "((12912, 36, 36, 1), (12912, 1))"
            ]
          },
          "metadata": {
            "tags": []
          },
          "execution_count": 8
        }
      ]
    },
    {
      "cell_type": "code",
      "metadata": {
        "id": "olMgnfjY6gVc",
        "colab_type": "code",
        "colab": {}
      },
      "source": [
        "import tensorflow as tf\n",
        "import tensorflow.keras as keras \n",
        "from tensorflow.keras.models import Sequential\n",
        "from tensorflow.keras.layers import Conv2D,MaxPool2D,Dropout,Dense,Flatten,Activation"
      ],
      "execution_count": 0,
      "outputs": []
    },
    {
      "cell_type": "code",
      "metadata": {
        "id": "aPHjwHZQ6gVY",
        "colab_type": "code",
        "colab": {}
      },
      "source": [
        "Y_train=keras.utils.to_categorical(Y_train,58)"
      ],
      "execution_count": 0,
      "outputs": []
    },
    {
      "cell_type": "code",
      "metadata": {
        "id": "ZX1gopXa6gVi",
        "colab_type": "code",
        "outputId": "c22e3389-2a9e-4cb5-ab91-9a950ec0b7b6",
        "colab": {
          "base_uri": "https://localhost:8080/",
          "height": 632
        }
      },
      "source": [
        "model=Sequential()\n",
        "model.add(Conv2D(64,3,activation='relu',padding='same',input_shape=(36,36,1)))\n",
        "model.add(MaxPool2D((2,2),2))\n",
        "model.add(Conv2D(128,3,padding='same',activation='relu'))\n",
        "model.add(Conv2D(256,5,padding='same',activation='relu'))\n",
        "model.add(MaxPool2D((2,2),2))\n",
        "model.add(Conv2D(256,5,padding='same',activation='relu'))\n",
        "model.add(Flatten())\n",
        "model.add(Dropout(0.01))\n",
        "model.add(Dense(256,activation='relu'))\n",
        "model.add(Dense(256,activation='relu'))\n",
        "model.add(Dense(58,activation='softmax'))\n",
        "model.summary()"
      ],
      "execution_count": 11,
      "outputs": [
        {
          "output_type": "stream",
          "text": [
            "WARNING:tensorflow:From /usr/local/lib/python3.6/dist-packages/tensorflow/python/ops/resource_variable_ops.py:435: colocate_with (from tensorflow.python.framework.ops) is deprecated and will be removed in a future version.\n",
            "Instructions for updating:\n",
            "Colocations handled automatically by placer.\n",
            "WARNING:tensorflow:From /usr/local/lib/python3.6/dist-packages/tensorflow/python/keras/layers/core.py:143: calling dropout (from tensorflow.python.ops.nn_ops) with keep_prob is deprecated and will be removed in a future version.\n",
            "Instructions for updating:\n",
            "Please use `rate` instead of `keep_prob`. Rate should be set to `rate = 1 - keep_prob`.\n",
            "_________________________________________________________________\n",
            "Layer (type)                 Output Shape              Param #   \n",
            "=================================================================\n",
            "conv2d (Conv2D)              (None, 36, 36, 64)        640       \n",
            "_________________________________________________________________\n",
            "max_pooling2d (MaxPooling2D) (None, 18, 18, 64)        0         \n",
            "_________________________________________________________________\n",
            "conv2d_1 (Conv2D)            (None, 18, 18, 128)       73856     \n",
            "_________________________________________________________________\n",
            "conv2d_2 (Conv2D)            (None, 18, 18, 256)       819456    \n",
            "_________________________________________________________________\n",
            "max_pooling2d_1 (MaxPooling2 (None, 9, 9, 256)         0         \n",
            "_________________________________________________________________\n",
            "conv2d_3 (Conv2D)            (None, 9, 9, 256)         1638656   \n",
            "_________________________________________________________________\n",
            "flatten (Flatten)            (None, 20736)             0         \n",
            "_________________________________________________________________\n",
            "dropout (Dropout)            (None, 20736)             0         \n",
            "_________________________________________________________________\n",
            "dense (Dense)                (None, 256)               5308672   \n",
            "_________________________________________________________________\n",
            "dense_1 (Dense)              (None, 256)               65792     \n",
            "_________________________________________________________________\n",
            "dense_2 (Dense)              (None, 58)                14906     \n",
            "=================================================================\n",
            "Total params: 7,921,978\n",
            "Trainable params: 7,921,978\n",
            "Non-trainable params: 0\n",
            "_________________________________________________________________\n"
          ],
          "name": "stdout"
        }
      ]
    },
    {
      "cell_type": "code",
      "metadata": {
        "id": "ZF5VOsWU6gVo",
        "colab_type": "code",
        "colab": {}
      },
      "source": [
        "from sklearn.model_selection import train_test_split\n",
        "from sklearn.utils import shuffle\n",
        "X_train,Y_train=shuffle(X_train,Y_train,random_state=2)\n",
        "X_train,X_test,Y_train,Y_test=train_test_split(X_train,Y_train,test_size=0.1,random_state=42)"
      ],
      "execution_count": 0,
      "outputs": []
    },
    {
      "cell_type": "code",
      "metadata": {
        "id": "VSzyJAc0SG46",
        "colab_type": "code",
        "colab": {}
      },
      "source": [
        "X_train=keras.utils.normalize(X_train,axis=1)"
      ],
      "execution_count": 0,
      "outputs": []
    },
    {
      "cell_type": "code",
      "metadata": {
        "id": "Q9iOvHhkmv6a",
        "colab_type": "code",
        "colab": {}
      },
      "source": [
        "X_train,X_val,Y_train,Y_val=train_test_split(X_train,Y_train,test_size=0.1,random_state=42)"
      ],
      "execution_count": 0,
      "outputs": []
    },
    {
      "cell_type": "code",
      "metadata": {
        "id": "nskxF1aP6gVs",
        "colab_type": "code",
        "outputId": "56860a06-123c-4f63-e7af-0872382ec766",
        "colab": {
          "base_uri": "https://localhost:8080/",
          "height": 119
        }
      },
      "source": [
        "X_train.shape,X_val.shape,X_test.shape,Y_train.shape,Y_val.shape,Y_test.shape"
      ],
      "execution_count": 15,
      "outputs": [
        {
          "output_type": "execute_result",
          "data": {
            "text/plain": [
              "((10458, 36, 36, 1),\n",
              " (1162, 36, 36, 1),\n",
              " (1292, 36, 36, 1),\n",
              " (10458, 58),\n",
              " (1162, 58),\n",
              " (1292, 58))"
            ]
          },
          "metadata": {
            "tags": []
          },
          "execution_count": 15
        }
      ]
    },
    {
      "cell_type": "code",
      "metadata": {
        "id": "KXk-utV-YEGd",
        "colab_type": "code",
        "outputId": "9c5ae744-8d44-4867-cd1a-8cff5d4a53b7",
        "colab": {
          "base_uri": "https://localhost:8080/",
          "height": 286
        }
      },
      "source": [
        "plt.imshow(X_test[1].reshape([36,36]))"
      ],
      "execution_count": 16,
      "outputs": [
        {
          "output_type": "execute_result",
          "data": {
            "text/plain": [
              "<matplotlib.image.AxesImage at 0x7f23d4663c88>"
            ]
          },
          "metadata": {
            "tags": []
          },
          "execution_count": 16
        },
        {
          "output_type": "display_data",
          "data": {
            "image/png": "[encoded data removed]",
            "text/plain": [
              "<Figure size 432x288 with 1 Axes>"
            ]
          },
          "metadata": {
            "tags": []
          }
        }
      ]
    },
    {
      "cell_type": "code",
      "metadata": {
        "id": "nyi5xQdn6gW3",
        "colab_type": "code",
        "colab": {}
      },
      "source": [
        "import tensorflow.keras.optimizers as optimizers\n",
        "adam = optimizers.Adam(lr=0.001)"
      ],
      "execution_count": 0,
      "outputs": []
    },
    {
      "cell_type": "code",
      "metadata": {
        "id": "J_73d-Ho6gW9",
        "colab_type": "code",
        "colab": {}
      },
      "source": [
        "model.compile(optimizer=adam,loss='binary_crossentropy',metrics=['accuracy'])"
      ],
      "execution_count": 0,
      "outputs": []
    },
    {
      "cell_type": "code",
      "metadata": {
        "id": "QD3tthFxpAb_",
        "colab_type": "code",
        "outputId": "206fee1d-c390-4619-af89-630d8d87bda1",
        "colab": {
          "base_uri": "https://localhost:8080/",
          "height": 785
        }
      },
      "source": [
        "history=model.fit(X_train,Y_train,batch_size=400,epochs=20,validation_data =(X_val,Y_val))"
      ],
      "execution_count": 19,
      "outputs": [
        {
          "output_type": "stream",
          "text": [
            "Train on 10458 samples, validate on 1162 samples\n",
            "WARNING:tensorflow:From /usr/local/lib/python3.6/dist-packages/tensorflow/python/ops/math_ops.py:3066: to_int32 (from tensorflow.python.ops.math_ops) is deprecated and will be removed in a future version.\n",
            "Instructions for updating:\n",
            "Use tf.cast instead.\n",
            "Epoch 1/20\n",
            "10458/10458 [==============================] - 10s 938us/sample - loss: 0.0871 - acc: 0.9828 - val_loss: 0.0870 - val_acc: 0.9828\n",
            "Epoch 2/20\n",
            "10458/10458 [==============================] - 3s 249us/sample - loss: 0.0819 - acc: 0.9829 - val_loss: 0.0631 - val_acc: 0.9840\n",
            "Epoch 3/20\n",
            "10458/10458 [==============================] - 3s 249us/sample - loss: 0.0444 - acc: 0.9866 - val_loss: 0.0336 - val_acc: 0.9885\n",
            "Epoch 4/20\n",
            "10458/10458 [==============================] - 3s 250us/sample - loss: 0.0253 - acc: 0.9914 - val_loss: 0.0239 - val_acc: 0.9917\n",
            "Epoch 5/20\n",
            "10458/10458 [==============================] - 3s 249us/sample - loss: 0.0162 - acc: 0.9943 - val_loss: 0.0184 - val_acc: 0.9934\n",
            "Epoch 6/20\n",
            "10458/10458 [==============================] - 3s 252us/sample - loss: 0.0107 - acc: 0.9963 - val_loss: 0.0150 - val_acc: 0.9949\n",
            "Epoch 7/20\n",
            "10458/10458 [==============================] - 3s 253us/sample - loss: 0.0068 - acc: 0.9976 - val_loss: 0.0130 - val_acc: 0.9956\n",
            "Epoch 8/20\n",
            "10458/10458 [==============================] - 3s 253us/sample - loss: 0.0045 - acc: 0.9984 - val_loss: 0.0147 - val_acc: 0.9956\n",
            "Epoch 9/20\n",
            "10458/10458 [==============================] - 3s 253us/sample - loss: 0.0035 - acc: 0.9988 - val_loss: 0.0121 - val_acc: 0.9962\n",
            "Epoch 10/20\n",
            "10458/10458 [==============================] - 3s 253us/sample - loss: 0.0023 - acc: 0.9992 - val_loss: 0.0133 - val_acc: 0.9962\n",
            "Epoch 11/20\n",
            "10458/10458 [==============================] - 3s 252us/sample - loss: 0.0014 - acc: 0.9996 - val_loss: 0.0146 - val_acc: 0.9961\n",
            "Epoch 12/20\n",
            "10458/10458 [==============================] - 3s 252us/sample - loss: 0.0014 - acc: 0.9995 - val_loss: 0.0133 - val_acc: 0.9968\n",
            "Epoch 13/20\n",
            "10458/10458 [==============================] - 3s 253us/sample - loss: 8.8606e-04 - acc: 0.9997 - val_loss: 0.0141 - val_acc: 0.9964\n",
            "Epoch 14/20\n",
            "10458/10458 [==============================] - 3s 253us/sample - loss: 7.9898e-04 - acc: 0.9997 - val_loss: 0.0207 - val_acc: 0.9951\n",
            "Epoch 15/20\n",
            "10458/10458 [==============================] - 3s 255us/sample - loss: 0.0019 - acc: 0.9994 - val_loss: 0.0132 - val_acc: 0.9964\n",
            "Epoch 16/20\n",
            "10458/10458 [==============================] - 3s 256us/sample - loss: 5.3444e-04 - acc: 0.9998 - val_loss: 0.0141 - val_acc: 0.9967\n",
            "Epoch 17/20\n",
            "10458/10458 [==============================] - 3s 255us/sample - loss: 3.8884e-04 - acc: 0.9999 - val_loss: 0.0162 - val_acc: 0.9966\n",
            "Epoch 18/20\n",
            "10458/10458 [==============================] - 3s 256us/sample - loss: 3.3468e-04 - acc: 0.9999 - val_loss: 0.0165 - val_acc: 0.9966\n",
            "Epoch 19/20\n",
            "10458/10458 [==============================] - 3s 257us/sample - loss: 3.0885e-04 - acc: 0.9999 - val_loss: 0.0134 - val_acc: 0.9970\n",
            "Epoch 20/20\n",
            "10458/10458 [==============================] - 3s 258us/sample - loss: 3.6120e-04 - acc: 0.9999 - val_loss: 0.0149 - val_acc: 0.9967\n"
          ],
          "name": "stdout"
        }
      ]
    },
    {
      "cell_type": "code",
      "metadata": {
        "id": "wAgESwUNpMqq",
        "colab_type": "code",
        "outputId": "3c0b4036-6dba-49f1-8a36-f7572965ee41",
        "colab": {
          "base_uri": "https://localhost:8080/",
          "height": 269
        }
      },
      "source": [
        "fig, ax = plt.subplots(2,1)\n",
        "ax[0].plot(history.history['loss'], color='b', label=\"Training loss\")\n",
        "ax[0].plot(history.history['val_loss'], color='r', label=\"validation loss\",axes =ax[0])\n",
        "legend = ax[0].legend(loc='best', shadow=True)\n",
        "\n",
        "ax[1].plot(history.history['acc'], color='b', label=\"Training accuracy\")\n",
        "ax[1].plot(history.history['val_acc'], color='r',label=\"Validation accuracy\")\n",
        "legend = ax[1].legend(loc='best', shadow=True)"
      ],
      "execution_count": 20,
      "outputs": [
        {
          "output_type": "display_data",
          "data": {
            "image/png": "[encoded data removed]",
            "text/plain": [
              "<Figure size 432x288 with 2 Axes>"
            ]
          },
          "metadata": {
            "tags": []
          }
        }
      ]
    },
    {
      "cell_type": "code",
      "metadata": {
        "id": "LPj7edpfVHqB",
        "colab_type": "code",
        "outputId": "4f9f3a34-5c80-4a13-83aa-de02f3d4f738",
        "colab": {
          "base_uri": "https://localhost:8080/",
          "height": 544
        }
      },
      "source": [
        "model1=Sequential()\n",
        "model1.add(Conv2D(96,11,activation='relu',padding='same',input_shape=(36,36,1)))\n",
        "model1.add(MaxPool2D())\n",
        "model1.add(Conv2D(256,3,activation='relu',padding='same'))\n",
        "model1.add(MaxPool2D())\n",
        "model1.add(Conv2D(384,5,activation='relu',padding='same'))\n",
        "model1.add(Conv2D(384,5,activation='relu',padding='same'))\n",
        "model1.add(Conv2D(256,3,activation='relu',padding='same'))\n",
        "model1.add(Flatten())\n",
        "model1.add(Dropout(0.01))\n",
        "model1.add(Dense(4096,activation='relu'))\n",
        "model1.add(Dense(4096,activation='relu'))\n",
        "model1.add(Dense(58,activation='softmax'))\n",
        "model1.summary()"
      ],
      "execution_count": 39,
      "outputs": [
        {
          "output_type": "stream",
          "text": [
            "_________________________________________________________________\n",
            "Layer (type)                 Output Shape              Param #   \n",
            "=================================================================\n",
            "conv2d_14 (Conv2D)           (None, 36, 36, 96)        11712     \n",
            "_________________________________________________________________\n",
            "max_pooling2d_6 (MaxPooling2 (None, 18, 18, 96)        0         \n",
            "_________________________________________________________________\n",
            "conv2d_15 (Conv2D)           (None, 18, 18, 256)       221440    \n",
            "_________________________________________________________________\n",
            "max_pooling2d_7 (MaxPooling2 (None, 9, 9, 256)         0         \n",
            "_________________________________________________________________\n",
            "conv2d_16 (Conv2D)           (None, 9, 9, 384)         2457984   \n",
            "_________________________________________________________________\n",
            "conv2d_17 (Conv2D)           (None, 9, 9, 384)         3686784   \n",
            "_________________________________________________________________\n",
            "conv2d_18 (Conv2D)           (None, 9, 9, 256)         884992    \n",
            "_________________________________________________________________\n",
            "flatten_3 (Flatten)          (None, 20736)             0         \n",
            "_________________________________________________________________\n",
            "dropout_3 (Dropout)          (None, 20736)             0         \n",
            "_________________________________________________________________\n",
            "dense_9 (Dense)              (None, 4096)              84938752  \n",
            "_________________________________________________________________\n",
            "dense_10 (Dense)             (None, 4096)              16781312  \n",
            "_________________________________________________________________\n",
            "dense_11 (Dense)             (None, 58)                237626    \n",
            "=================================================================\n",
            "Total params: 109,220,602\n",
            "Trainable params: 109,220,602\n",
            "Non-trainable params: 0\n",
            "_________________________________________________________________\n"
          ],
          "name": "stdout"
        }
      ]
    },
    {
      "cell_type": "code",
      "metadata": {
        "id": "0Riwz5PbtD5D",
        "colab_type": "code",
        "colab": {}
      },
      "source": [
        "model1.compile(optimizer=adam,loss='binary_crossentropy',metrics=['accuracy'])"
      ],
      "execution_count": 0,
      "outputs": []
    },
    {
      "cell_type": "code",
      "metadata": {
        "colab_type": "code",
        "id": "y3Qo-pDcpjNt",
        "colab": {}
      },
      "source": [
        "from tensorflow.keras.preprocessing.image import ImageDataGenerator\n",
        "datagen = ImageDataGenerator(rotation_range = 20, zoom_range = 0.2, width_shift_range = 0.2, height_shift_range = 0.2)\n",
        "datagen.fit(X_train)"
      ],
      "execution_count": 0,
      "outputs": []
    },
    {
      "cell_type": "code",
      "metadata": {
        "colab_type": "code",
        "id": "0dtOLEqspiv2",
        "colab": {}
      },
      "source": [
        "reduce_lr =keras.callbacks.ReduceLROnPlateau(monitor='val_loss', factor=0.5, patience=3, mode='auto', min_lr=0.0001)"
      ],
      "execution_count": 0,
      "outputs": []
    },
    {
      "cell_type": "code",
      "metadata": {
        "colab_type": "code",
        "outputId": "85d17fef-8424-4de5-f6db-c82e24fa15d3",
        "id": "rE19XsFJpiKb",
        "colab": {
          "base_uri": "https://localhost:8080/",
          "height": 1037
        }
      },
      "source": [
        "history1=model1.fit_generator(datagen.flow(X_train, Y_train, batch_size = 200),verbose=2,epochs = 20, steps_per_epoch = X_train.shape[0] //200, validation_data = (X_val,Y_val),callbacks=[reduce_lr])"
      ],
      "execution_count": 44,
      "outputs": [
        {
          "output_type": "stream",
          "text": [
            "Epoch 1/20\n",
            "1162/1162 [==============================] - 1s 864us/sample - loss: 0.0704 - acc: 0.9829\n",
            " - 12s - loss: 0.0826 - acc: 0.9828 - val_loss: 0.0703 - val_acc: 0.9829\n",
            "Epoch 2/20\n",
            "1162/1162 [==============================] - 0s 236us/sample - loss: 0.0564 - acc: 0.9837\n",
            " - 9s - loss: 0.0737 - acc: 0.9829 - val_loss: 0.0564 - val_acc: 0.9837\n",
            "Epoch 3/20\n",
            "1162/1162 [==============================] - 0s 236us/sample - loss: 0.0503 - acc: 0.9845\n",
            " - 10s - loss: 0.0670 - acc: 0.9831 - val_loss: 0.0502 - val_acc: 0.9845\n",
            "Epoch 4/20\n",
            "1162/1162 [==============================] - 0s 241us/sample - loss: 0.0382 - acc: 0.9865\n",
            " - 10s - loss: 0.0586 - acc: 0.9836 - val_loss: 0.0382 - val_acc: 0.9865\n",
            "Epoch 5/20\n",
            "1162/1162 [==============================] - 0s 242us/sample - loss: 0.0324 - acc: 0.9881\n",
            " - 10s - loss: 0.0528 - acc: 0.9844 - val_loss: 0.0323 - val_acc: 0.9881\n",
            "Epoch 6/20\n",
            "1162/1162 [==============================] - 0s 241us/sample - loss: 0.0253 - acc: 0.9906\n",
            " - 10s - loss: 0.0472 - acc: 0.9854 - val_loss: 0.0253 - val_acc: 0.9906\n",
            "Epoch 7/20\n",
            "1162/1162 [==============================] - 0s 239us/sample - loss: 0.0217 - acc: 0.9921\n",
            " - 10s - loss: 0.0420 - acc: 0.9864 - val_loss: 0.0217 - val_acc: 0.9921\n",
            "Epoch 8/20\n",
            "1162/1162 [==============================] - 0s 236us/sample - loss: 0.0185 - acc: 0.9929\n",
            " - 10s - loss: 0.0369 - acc: 0.9875 - val_loss: 0.0185 - val_acc: 0.9929\n",
            "Epoch 9/20\n",
            "1162/1162 [==============================] - 0s 237us/sample - loss: 0.0171 - acc: 0.9936\n",
            " - 10s - loss: 0.0337 - acc: 0.9884 - val_loss: 0.0171 - val_acc: 0.9936\n",
            "Epoch 10/20\n",
            "1162/1162 [==============================] - 0s 233us/sample - loss: 0.0150 - acc: 0.9943\n",
            " - 9s - loss: 0.0310 - acc: 0.9893 - val_loss: 0.0149 - val_acc: 0.9943\n",
            "Epoch 11/20\n",
            "1162/1162 [==============================] - 0s 236us/sample - loss: 0.0141 - acc: 0.9950\n",
            " - 9s - loss: 0.0282 - acc: 0.9901 - val_loss: 0.0141 - val_acc: 0.9950\n",
            "Epoch 12/20\n",
            "1162/1162 [==============================] - 0s 243us/sample - loss: 0.0125 - acc: 0.9952\n",
            " - 10s - loss: 0.0266 - acc: 0.9906 - val_loss: 0.0125 - val_acc: 0.9952\n",
            "Epoch 13/20\n",
            "1162/1162 [==============================] - 0s 233us/sample - loss: 0.0120 - acc: 0.9953\n",
            " - 10s - loss: 0.0247 - acc: 0.9912 - val_loss: 0.0119 - val_acc: 0.9953\n",
            "Epoch 14/20\n",
            "1162/1162 [==============================] - 0s 239us/sample - loss: 0.0098 - acc: 0.9966\n",
            " - 10s - loss: 0.0230 - acc: 0.9918 - val_loss: 0.0097 - val_acc: 0.9966\n",
            "Epoch 15/20\n",
            "1162/1162 [==============================] - 0s 235us/sample - loss: 0.0084 - acc: 0.9971\n",
            " - 10s - loss: 0.0214 - acc: 0.9922 - val_loss: 0.0083 - val_acc: 0.9971\n",
            "Epoch 16/20\n",
            "1162/1162 [==============================] - 0s 238us/sample - loss: 0.0090 - acc: 0.9969\n",
            " - 10s - loss: 0.0208 - acc: 0.9925 - val_loss: 0.0090 - val_acc: 0.9969\n",
            "Epoch 17/20\n",
            "1162/1162 [==============================] - 0s 235us/sample - loss: 0.0088 - acc: 0.9969\n",
            " - 10s - loss: 0.0198 - acc: 0.9930 - val_loss: 0.0087 - val_acc: 0.9969\n",
            "Epoch 18/20\n",
            "1162/1162 [==============================] - 0s 235us/sample - loss: 0.0079 - acc: 0.9972\n",
            " - 10s - loss: 0.0193 - acc: 0.9930 - val_loss: 0.0078 - val_acc: 0.9972\n",
            "Epoch 19/20\n",
            "1162/1162 [==============================] - 0s 242us/sample - loss: 0.0074 - acc: 0.9973\n",
            " - 10s - loss: 0.0182 - acc: 0.9934 - val_loss: 0.0073 - val_acc: 0.9973\n",
            "Epoch 20/20\n",
            "1162/1162 [==============================] - 0s 240us/sample - loss: 0.0076 - acc: 0.9974\n",
            " - 10s - loss: 0.0177 - acc: 0.9936 - val_loss: 0.0076 - val_acc: 0.9974\n"
          ],
          "name": "stdout"
        }
      ]
    },
    {
      "cell_type": "code",
      "metadata": {
        "id": "HHPghmplpmCF",
        "colab_type": "code",
        "outputId": "1250a1fc-5adc-4b19-d117-6c5ca5bc50d5",
        "colab": {
          "base_uri": "https://localhost:8080/",
          "height": 269
        }
      },
      "source": [
        "fig, ax = plt.subplots(2,1)\n",
        "ax[0].plot(history1.history['loss'], color='b', label=\"Training loss\")\n",
        "ax[0].plot(history1.history['val_loss'], color='r', label=\"validation loss\",axes =ax[0])\n",
        "legend = ax[0].legend(loc='best', shadow=True)\n",
        "\n",
        "ax[1].plot(history1.history['acc'], color='b', label=\"Training accuracy\")\n",
        "ax[1].plot(history1.history['val_acc'], color='r',label=\"Validation accuracy\")\n",
        "legend = ax[1].legend(loc='best', shadow=True)"
      ],
      "execution_count": 45,
      "outputs": [
        {
          "output_type": "display_data",
          "data": {
            "image/png": "[encoded data removed]",
            "text/plain": [
              "<Figure size 432x288 with 2 Axes>"
            ]
          },
          "metadata": {
            "tags": []
          }
        }
      ]
    },
    {
      "cell_type": "code",
      "metadata": {
        "id": "_INFmUycOPo3",
        "colab_type": "code",
        "colab": {}
      },
      "source": [
        "model.save('model.h5')"
      ],
      "execution_count": 0,
      "outputs": []
    },
    {
      "cell_type": "code",
      "metadata": {
        "id": "S3ivk25fOVQw",
        "colab_type": "code",
        "outputId": "e91c43dd-3098-4ad4-ab20-e0ec815e4a66",
        "colab": {
          "base_uri": "https://localhost:8080/",
          "height": 51
        }
      },
      "source": [
        "model.evaluate(keras.utils.normalize(X_test,axis=1), Y_test, batch_size =400, verbose =1)"
      ],
      "execution_count": 28,
      "outputs": [
        {
          "output_type": "stream",
          "text": [
            "1292/1292 [==============================] - 0s 289us/sample - loss: 0.0163 - acc: 0.9965\n"
          ],
          "name": "stdout"
        },
        {
          "output_type": "execute_result",
          "data": {
            "text/plain": [
              "[0.016284260062656535, 0.9965037]"
            ]
          },
          "metadata": {
            "tags": []
          },
          "execution_count": 28
        }
      ]
    },
    {
      "cell_type": "code",
      "metadata": {
        "id": "i9P8L14bOe31",
        "colab_type": "code",
        "outputId": "dba681d6-ced5-4095-98a9-aee8f2bd9499",
        "colab": {
          "base_uri": "https://localhost:8080/",
          "height": 34
        }
      },
      "source": [
        "predicted = model.predict(x = keras.utils.normalize(X_test,axis=1), verbose = 1)"
      ],
      "execution_count": 29,
      "outputs": [
        {
          "output_type": "stream",
          "text": [
            "1292/1292 [==============================] - 0s 365us/sample\n"
          ],
          "name": "stdout"
        }
      ]
    },
    {
      "cell_type": "code",
      "metadata": {
        "id": "M4ibqHIUWKzX",
        "colab_type": "code",
        "colab": {}
      },
      "source": [
        "predicted = np.argmax(predicted, axis = 1)"
      ],
      "execution_count": 0,
      "outputs": []
    },
    {
      "cell_type": "code",
      "metadata": {
        "id": "FPyLnK3nOhEl",
        "colab_type": "code",
        "outputId": "15f8a70a-aac0-4147-d49e-01ea8ec86bb6",
        "colab": {
          "base_uri": "https://localhost:8080/",
          "height": 286
        }
      },
      "source": [
        "i=1\n",
        "img = X_test[i].reshape([36,36])\n",
        "plt.imshow(img)\n",
        "if(predicted[i]<36):\n",
        "  print(Y_train_1[predicted[i]])\n",
        "elif(46>predicted[i]>=36):\n",
        "  print(Y_train_2[predicted[i]-36])\n",
        "else:\n",
        "  print(Y_train_3[predicted[i]-46])"
      ],
      "execution_count": 31,
      "outputs": [
        {
          "output_type": "stream",
          "text": [
            "['ka' 'क']\n"
          ],
          "name": "stdout"
        },
        {
          "output_type": "display_data",
          "data": {
            "image/png": "[encoded data removed]",
            "text/plain": [
              "<Figure size 432x288 with 1 Axes>"
            ]
          },
          "metadata": {
            "tags": []
          }
        }
      ]
    },
    {
      "cell_type": "code",
      "metadata": {
        "id": "cUMTHcsCfgfl",
        "colab_type": "code",
        "colab": {}
      },
      "source": [
        "model1.save('model1.h5')"
      ],
      "execution_count": 0,
      "outputs": []
    },
    {
      "cell_type": "code",
      "metadata": {
        "id": "MWRyQQgFZyLk",
        "colab_type": "code",
        "outputId": "dd5a92b2-1c50-4cbf-bc1e-19773fbd2b6e",
        "colab": {
          "base_uri": "https://localhost:8080/",
          "height": 51
        }
      },
      "source": [
        "model1.evaluate(keras.utils.normalize(X_test,axis=1), Y_test, batch_size =200, verbose =1)"
      ],
      "execution_count": 47,
      "outputs": [
        {
          "output_type": "stream",
          "text": [
            "1292/1292 [==============================] - 0s 310us/sample - loss: 0.0081 - acc: 0.9969\n"
          ],
          "name": "stdout"
        },
        {
          "output_type": "execute_result",
          "data": {
            "text/plain": [
              "[0.008103682688399918, 0.9969308]"
            ]
          },
          "metadata": {
            "tags": []
          },
          "execution_count": 47
        }
      ]
    },
    {
      "cell_type": "code",
      "metadata": {
        "id": "iWiXkdNJZ5_D",
        "colab_type": "code",
        "outputId": "08bf5f83-2bfb-45f1-dce9-4e180b8db395",
        "colab": {
          "base_uri": "https://localhost:8080/",
          "height": 34
        }
      },
      "source": [
        "predicted = model1.predict(x = keras.utils.normalize(X_test,axis=1), verbose = 1)"
      ],
      "execution_count": 48,
      "outputs": [
        {
          "output_type": "stream",
          "text": [
            "1292/1292 [==============================] - 1s 471us/sample\n"
          ],
          "name": "stdout"
        }
      ]
    },
    {
      "cell_type": "code",
      "metadata": {
        "id": "EYupiSS1Z8vQ",
        "colab_type": "code",
        "colab": {}
      },
      "source": [
        "predicted=np.argmax(predicted,axis=1)"
      ],
      "execution_count": 0,
      "outputs": []
    },
    {
      "cell_type": "code",
      "metadata": {
        "id": "-jx_je1qceTO",
        "colab_type": "code",
        "outputId": "22083995-f256-4ab6-b0b3-1bcd1c0164c0",
        "colab": {
          "base_uri": "https://localhost:8080/",
          "height": 286
        }
      },
      "source": [
        "i=20\n",
        "img = X_test[i].reshape([36,36])\n",
        "plt.imshow(img)\n",
        "if(predicted[i]<36):\n",
        "  print(Y_train_1[predicted[i]])\n",
        "elif(46>predicted[i]>=36):\n",
        "  print(Y_train_2[predicted[i]-36])\n",
        "else:\n",
        "  print(Y_train_3[predicted[i]-46])"
      ],
      "execution_count": 55,
      "outputs": [
        {
          "output_type": "stream",
          "text": [
            "['3' '३']\n"
          ],
          "name": "stdout"
        },
        {
          "output_type": "display_data",
          "data": {
            "image/png": "[encoded data removed]",
            "text/plain": [
              "<Figure size 432x288 with 1 Axes>"
            ]
          },
          "metadata": {
            "tags": []
          }
        }
      ]
    },
    {
      "cell_type": "code",
      "metadata": {
        "id": "RV4DW6Tg70MK",
        "colab_type": "code",
        "colab": {}
      },
      "source": [
        ""
      ],
      "execution_count": 0,
      "outputs": []
    }
  ]
}